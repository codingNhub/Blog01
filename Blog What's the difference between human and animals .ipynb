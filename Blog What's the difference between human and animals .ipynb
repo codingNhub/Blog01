{
 "cells": [
  {
   "cell_type": "markdown",
   "id": "9ab493bb",
   "metadata": {},
   "source": [
    "# What’s the difference between Humans and Animals\n",
    "\n",
    "There are various aspect that’s differentiate humans and animals. \n",
    "Human brain differently like human have a complex nervous system.\n",
    "The brain is integral part of it .  Human have bigger brain size \n",
    "then animal average size “Human  brain size= 1.2kg” according to \n",
    "several researches . Most animals have a smaller brain size . \n",
    "Human walk upright and on two legs but in case of animals they\n",
    "walk on four legs also some have different kind of locomotion \n",
    "like crocodile crawl on land. As we know human are so special \n",
    "that’s why human are only species on earth that has natural language\n",
    "processing ability. On other hand most of animals communicate\n",
    "on basic level.However,some bride of like parrots imitate humans\n",
    "and subsequently talk like them Humans are typically omnivorous \n",
    "instead of this animals herbivorous and carnivorous and \n",
    "occasionally are both. Most of the animals hearing range \n",
    "much batter then humans.Human are driven by instincts.\n",
    "However,we can likewise reason. Animals are primarily \n",
    "driven by instincts. Personally I thought animals much \n",
    "better then human in case of expressing emotions because\n",
    "their emotions are straight and pure like cats and dogs "
   ]
  }
 ],
 "metadata": {
  "kernelspec": {
   "display_name": "Python 3 (ipykernel)",
   "language": "python",
   "name": "python3"
  },
  "language_info": {
   "codemirror_mode": {
    "name": "ipython",
    "version": 3
   },
   "file_extension": ".py",
   "mimetype": "text/x-python",
   "name": "python",
   "nbconvert_exporter": "python",
   "pygments_lexer": "ipython3",
   "version": "3.9.7"
  }
 },
 "nbformat": 4,
 "nbformat_minor": 5
}
